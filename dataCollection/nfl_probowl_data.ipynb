{
 "cells": [
  {
   "cell_type": "code",
   "execution_count": 1,
   "metadata": {},
   "outputs": [],
   "source": [
    "import pandas as pd"
   ]
  },
  {
   "cell_type": "code",
   "execution_count": 2,
   "metadata": {},
   "outputs": [],
   "source": [
    "pbyears = range(1950,2019)\n",
    "\n",
    "ColNames=['Pos', 'Player', 'Conf', 'Team', 'Age', 'Yrs', 'G', 'GS', 'PassingCmp', 'PassingAtt', 'PassingYds', 'PassingTD', \n",
    " 'PassingInt', 'RushingAtt', 'RushingYds', 'RushingTD', 'ReceivingRec',\n",
    " 'ReceivingYds', 'ReceivingTD', 'Tackles', 'Int', 'Sacks', 'All-Pro Teams'] \n",
    "\n",
    "pb_df = pd.DataFrame(columns = ColNames)\n",
    "\n",
    "\n",
    "for x in pbyears:\n",
    "    url = f'https://www.pro-football-reference.com/years/{x}/probowl.htm'\n",
    "    pb_list = pd.read_html(url) # returns list\n",
    "    tempDF = pd.DataFrame(pb_list[0])\n",
    "#     tempDF.insert(0, 'Pro-Bowl Year', x)\n",
    "    tempDF.columns = ColNames\n",
    "    if x == min(pbyears):\n",
    "        pb_df = tempDF\n",
    "    else:\n",
    "        pb_df = pb_df.append(tempDF, ignore_index=True)\n",
    "del tempDF\n",
    "   \n",
    "#Drop the College Stats column because it is just the text 'College Stats' - use bs to get the actual href and merge in subsequent steps\n",
    "# draftDF.drop(['CollegeStats'], axis=1, inplace = True)   "
   ]
  },
  {
   "cell_type": "code",
   "execution_count": 3,
   "metadata": {},
   "outputs": [],
   "source": [
    "pb_df['Number of Pro-Bowls'] = 1"
   ]
  },
  {
   "cell_type": "code",
   "execution_count": 4,
   "metadata": {},
   "outputs": [
    {
     "data": {
      "text/html": [
       "<div>\n",
       "<style scoped>\n",
       "    .dataframe tbody tr th:only-of-type {\n",
       "        vertical-align: middle;\n",
       "    }\n",
       "\n",
       "    .dataframe tbody tr th {\n",
       "        vertical-align: top;\n",
       "    }\n",
       "\n",
       "    .dataframe thead th {\n",
       "        text-align: right;\n",
       "    }\n",
       "</style>\n",
       "<table border=\"1\" class=\"dataframe\">\n",
       "  <thead>\n",
       "    <tr style=\"text-align: right;\">\n",
       "      <th></th>\n",
       "      <th>Number of Pro-Bowls</th>\n",
       "      <th>Pro-Bowler</th>\n",
       "    </tr>\n",
       "    <tr>\n",
       "      <th>Player</th>\n",
       "      <th></th>\n",
       "      <th></th>\n",
       "    </tr>\n",
       "  </thead>\n",
       "  <tbody>\n",
       "    <tr>\n",
       "      <th>A.J. Bouye</th>\n",
       "      <td>1</td>\n",
       "      <td>Y</td>\n",
       "    </tr>\n",
       "    <tr>\n",
       "      <th>A.J. Duhe</th>\n",
       "      <td>1</td>\n",
       "      <td>Y</td>\n",
       "    </tr>\n",
       "    <tr>\n",
       "      <th>A.J. Green</th>\n",
       "      <td>7</td>\n",
       "      <td>Y</td>\n",
       "    </tr>\n",
       "    <tr>\n",
       "      <th>Aaron Donald</th>\n",
       "      <td>5</td>\n",
       "      <td>Y</td>\n",
       "    </tr>\n",
       "    <tr>\n",
       "      <th>Aaron Glenn</th>\n",
       "      <td>3</td>\n",
       "      <td>Y</td>\n",
       "    </tr>\n",
       "    <tr>\n",
       "      <th>...</th>\n",
       "      <td>...</td>\n",
       "      <td>...</td>\n",
       "    </tr>\n",
       "    <tr>\n",
       "      <th>Zack Martin</th>\n",
       "      <td>5</td>\n",
       "      <td>Y</td>\n",
       "    </tr>\n",
       "    <tr>\n",
       "      <th>Zak DeOssie</th>\n",
       "      <td>2</td>\n",
       "      <td>Y</td>\n",
       "    </tr>\n",
       "    <tr>\n",
       "      <th>Zane Beadles</th>\n",
       "      <td>1</td>\n",
       "      <td>Y</td>\n",
       "    </tr>\n",
       "    <tr>\n",
       "      <th>Zeke Moore</th>\n",
       "      <td>1</td>\n",
       "      <td>Y</td>\n",
       "    </tr>\n",
       "    <tr>\n",
       "      <th>Zollie Toth</th>\n",
       "      <td>1</td>\n",
       "      <td>Y</td>\n",
       "    </tr>\n",
       "  </tbody>\n",
       "</table>\n",
       "<p>2197 rows × 2 columns</p>\n",
       "</div>"
      ],
      "text/plain": [
       "              Number of Pro-Bowls Pro-Bowler\n",
       "Player                                      \n",
       "A.J. Bouye                      1          Y\n",
       "A.J. Duhe                       1          Y\n",
       "A.J. Green                      7          Y\n",
       "Aaron Donald                    5          Y\n",
       "Aaron Glenn                     3          Y\n",
       "...                           ...        ...\n",
       "Zack Martin                     5          Y\n",
       "Zak DeOssie                     2          Y\n",
       "Zane Beadles                    1          Y\n",
       "Zeke Moore                      1          Y\n",
       "Zollie Toth                     1          Y\n",
       "\n",
       "[2197 rows x 2 columns]"
      ]
     },
     "execution_count": 4,
     "metadata": {},
     "output_type": "execute_result"
    }
   ],
   "source": [
    "pb_app_df = pb_df.drop(columns = ['Conf', 'Team', 'Age', 'Yrs', 'G', 'GS', 'PassingCmp', 'PassingAtt',\n",
    "    'PassingYds', 'PassingTD', 'PassingInt', 'RushingAtt', 'RushingYds', 'RushingTD', 'ReceivingRec', 'ReceivingYds',\n",
    "    'ReceivingTD', 'Tackles', 'Int', 'Sacks', 'All-Pro Teams'])\n",
    "pb_app_df['Player'] = pb_app_df['Player'].str.strip('+%')\n",
    "pb_pivot = pb_app_df.groupby(['Player'])['Number of Pro-Bowls'].sum()\n",
    "pb_pivot_df = pd.DataFrame(pb_pivot)\n",
    "pb_pivot_df['Pro-Bowler'] = 'Y'\n",
    "pb_pivot_df"
   ]
  },
  {
   "cell_type": "code",
   "execution_count": 5,
   "metadata": {},
   "outputs": [],
   "source": [
    "# commit to sqlite database\n",
    "import sqlalchemy\n",
    "from sqlalchemy.ext.automap import automap_base\n",
    "from sqlalchemy.orm import Session\n",
    "from sqlalchemy import create_engine, func, inspect\n",
    "engine = create_engine('sqlite:///../data/fbdata.sqlite')\n",
    "pb_pivot_df.to_sql('probowl', con=engine, if_exists='replace', index=False)"
   ]
  },
  {
   "cell_type": "code",
   "execution_count": null,
   "metadata": {},
   "outputs": [],
   "source": []
  }
 ],
 "metadata": {
  "kernelspec": {
   "display_name": "Python 3",
   "language": "python",
   "name": "python3"
  },
  "language_info": {
   "codemirror_mode": {
    "name": "ipython",
    "version": 3
   },
   "file_extension": ".py",
   "mimetype": "text/x-python",
   "name": "python",
   "nbconvert_exporter": "python",
   "pygments_lexer": "ipython3",
   "version": "3.6.9"
  }
 },
 "nbformat": 4,
 "nbformat_minor": 2
}
