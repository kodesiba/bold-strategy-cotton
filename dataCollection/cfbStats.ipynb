{
 "cells": [
  {
   "cell_type": "code",
   "execution_count": 1,
   "metadata": {},
   "outputs": [],
   "source": [
    "# import dependencies\n",
    "from bs4 import BeautifulSoup as bs\n",
    "from bs4 import Comment\n",
    "import requests\n",
    "from splinter import Browser\n",
    "import pandas as pd"
   ]
  },
  {
   "cell_type": "code",
   "execution_count": null,
   "metadata": {},
   "outputs": [],
   "source": [
    "# get player data\n",
    "url = 'https://www.sports-reference.com/cfb/players/tua-tagovailoa-1.html'\n",
    "soup = bs(requests.get(url).text, 'lxml')\n",
    "tables = soup.findAll(class_='table_wrapper')\n",
    "\n",
    "all_passing = pd.read_html(soup.find(id=f\"all_passing\").prettify(), header=1)[0]\n",
    "all_passing.columns = ['year','school','conf','class','pos','games','passComp','passAtt','compPct','passYds',\\\n",
    "                       'ydsPerAtt','adjYdsPerAtt','TD','int','effRate']\n",
    "all_passing.year = all_passing.year.str.strip('*').str.strip(' ')\n",
    "all_rushing = pd.read_html(soup.find(id=f\"all_rushing\").findAll(text=lambda text:isinstance(text, Comment))[0].extract(), header=1)[0]\n",
    "all_rushing.columns = ['year','school','conf','class','pos','games','rushAtt','rushYds','rushAvg','rushTD','rec',\\\n",
    "                       'recYds','recAvg','recTD','plays','ydsFromScrim','ydsFromScrimAvg','rushRecTD']\n",
    "all_rushing.year = all_passing.year.str.strip('*').str.strip(' ')\n",
    "# all_passing.head()\n",
    "playerdf = pd.merge(all_passing, all_rushing, on=['year','school','conf','class','pos','games'])\n",
    "playerdf['name'] = 'Tua Tungavailoa'\n",
    "playerdf.head()"
   ]
  }
 ],
 "metadata": {
  "kernelspec": {
   "display_name": "Python 3.6.9 64-bit ('PythonData': conda)",
   "language": "python",
   "name": "python36964bitpythondataconda4c2035c1d5b4439ea3bc264eaeea0903"
  },
  "language_info": {
   "codemirror_mode": {
    "name": "ipython",
    "version": 3
   },
   "file_extension": ".py",
   "mimetype": "text/x-python",
   "name": "python",
   "nbconvert_exporter": "python",
   "pygments_lexer": "ipython3",
   "version": "3.7.7"
  }
 },
 "nbformat": 4,
 "nbformat_minor": 2
}
