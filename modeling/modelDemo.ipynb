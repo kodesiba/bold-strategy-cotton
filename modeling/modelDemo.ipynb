{
 "cells": [
  {
   "cell_type": "code",
   "execution_count": 1,
   "metadata": {},
   "outputs": [
    {
     "name": "stderr",
     "output_type": "stream",
     "text": [
      "Using TensorFlow backend.\n"
     ]
    }
   ],
   "source": [
    "# import dependencies\n",
    "import matplotlib.pyplot as plt\n",
    "import numpy as np\n",
    "import pandas as pd\n",
    "import sklearn\n",
    "import tensorflow as tf\n",
    "import sqlalchemy\n",
    "from sqlalchemy.ext.automap import automap_base\n",
    "from sqlalchemy.orm import Session\n",
    "from sqlalchemy import create_engine, func, inspect\n",
    "from keras.utils.np_utils import to_categorical"
   ]
  },
  {
   "cell_type": "code",
   "execution_count": 2,
   "metadata": {},
   "outputs": [],
   "source": [
    "# get data from database\n",
    "Base = automap_base()\n",
    "engine = create_engine('sqlite:///../data/fbdata.sqlite')\n",
    "Base.metadata.create_all(engine)\n",
    "Base.prepare(engine, reflect=True)\n",
    "session = Session(engine)\n",
    "modelRecent = pd.read_sql_query(\"SELECT * FROM RecentQBs\", con=engine)"
   ]
  },
  {
   "cell_type": "code",
   "execution_count": 3,
   "metadata": {},
   "outputs": [],
   "source": [
    "# load in model\n",
    "from tensorflow.keras.models import load_model\n",
    "model = load_model(\"fullModel.h5\")\n",
    "\n",
    "from joblib import dump, load\n",
    "X_scaler=load('X_scaler.bin')"
   ]
  },
  {
   "cell_type": "code",
   "execution_count": 5,
   "metadata": {},
   "outputs": [
    {
     "name": "stdout",
     "output_type": "stream",
     "text": [
      "Model: \"sequential_39\"\n",
      "_________________________________________________________________\n",
      "Layer (type)                 Output Shape              Param #   \n",
      "=================================================================\n",
      "dense_156 (Dense)            (None, 7)                 49        \n",
      "_________________________________________________________________\n",
      "dense_157 (Dense)            (None, 7)                 56        \n",
      "_________________________________________________________________\n",
      "dense_158 (Dense)            (None, 7)                 56        \n",
      "_________________________________________________________________\n",
      "dense_159 (Dense)            (None, 2)                 16        \n",
      "=================================================================\n",
      "Total params: 177\n",
      "Trainable params: 177\n",
      "Non-trainable params: 0\n",
      "_________________________________________________________________\n"
     ]
    }
   ],
   "source": [
    "# show model summary\n",
    "model.summary()"
   ]
  },
  {
   "cell_type": "code",
   "execution_count": 6,
   "metadata": {},
   "outputs": [
    {
     "name": "stdout",
     "output_type": "stream",
     "text": [
      "Prediction for Kyler Murray (2019): 1\n",
      "-------------------------------------------------------\n",
      "Prediction for Daniel Jones (2019): 1\n",
      "-------------------------------------------------------\n",
      "Prediction for Dwayne Haskins (2019): 1\n",
      "-------------------------------------------------------\n",
      "Prediction for Drew Lock (2019): 1\n",
      "-------------------------------------------------------\n",
      "Prediction for Will Grier (2019): 0\n",
      "-------------------------------------------------------\n",
      "Prediction for Ryan Finley (2019): 1\n",
      "-------------------------------------------------------\n",
      "Prediction for Jarrett Stidham (2019): 0\n",
      "-------------------------------------------------------\n",
      "Prediction for Clayton Thorson (2019): 0\n",
      "-------------------------------------------------------\n",
      "Prediction for Gardner Minshew (2019): 0\n",
      "-------------------------------------------------------\n",
      "Prediction for Trace McSorley (2019): 0\n",
      "-------------------------------------------------------\n",
      "Prediction for Joe Burrow (2020): 0\n",
      "-------------------------------------------------------\n",
      "Prediction for Tua Tagovailoa (2020): 0\n",
      "-------------------------------------------------------\n",
      "Prediction for Justin Herbert (2020): 1\n",
      "-------------------------------------------------------\n",
      "Prediction for Jordan Love (2020): 1\n",
      "-------------------------------------------------------\n",
      "Prediction for Jalen Hurts (2020): 1\n",
      "-------------------------------------------------------\n",
      "Prediction for Jacob Eason (2020): 1\n",
      "-------------------------------------------------------\n",
      "Prediction for James Morgan (2020): 0\n",
      "-------------------------------------------------------\n",
      "Prediction for Jake Fromm (2020): 0\n",
      "-------------------------------------------------------\n",
      "Prediction for Jake Luton (2020): 1\n",
      "-------------------------------------------------------\n",
      "Prediction for Cole McDonald (2020): 1\n",
      "-------------------------------------------------------\n",
      "Prediction for Nate Stanley (2020): 0\n",
      "-------------------------------------------------------\n"
     ]
    }
   ],
   "source": [
    "# test with recent data\n",
    "X_2020 = modelRecent[modelRecent['DraftYear'] >= 2019][['height','40yard','vertleap','rushAvg', 'adjYdsPerAtt','effRate']]\n",
    "X_2020_scaled = X_scaler.transform(X_2020)\n",
    "players_2020 = modelRecent[modelRecent['DraftYear'] >= 2019][['Player','DraftYear']].reset_index()\n",
    "del players_2020['index']\n",
    "\n",
    "predictions = model.predict_classes(X_2020_scaled)\n",
    "for i in range(0,len(players_2020)):\n",
    "    print(f\"Prediction for {players_2020['Player'][i]} ({players_2020['DraftYear'][i]}): {predictions[i]}\")\n",
    "    print(\"-------------------------------------------------------\")"
   ]
  },
  {
   "cell_type": "code",
   "execution_count": null,
   "metadata": {},
   "outputs": [],
   "source": []
  }
 ],
 "metadata": {
  "kernelspec": {
   "display_name": "Python 3.6.9 64-bit ('PythonData': conda)",
   "language": "python",
   "name": "python36964bitpythondataconda4c2035c1d5b4439ea3bc264eaeea0903"
  },
  "language_info": {
   "codemirror_mode": {
    "name": "ipython",
    "version": 3
   },
   "file_extension": ".py",
   "mimetype": "text/x-python",
   "name": "python",
   "nbconvert_exporter": "python",
   "pygments_lexer": "ipython3",
   "version": "3.7.7"
  }
 },
 "nbformat": 4,
 "nbformat_minor": 2
}
